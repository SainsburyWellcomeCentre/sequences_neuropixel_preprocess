{
 "cells": [
  {
   "cell_type": "code",
   "execution_count": 9,
   "id": "e1db073e",
   "metadata": {},
   "outputs": [
    {
     "name": "stdout",
     "output_type": "stream",
     "text": [
      "Point 1: (582, 432)\n",
      "Point 2: (472, 432)\n",
      "Point 3: (580, 325)\n",
      "Point 4: (693, 431)\n",
      "Point 5: (696, 328)\n",
      "5 points collected. Saving to file...\n"
     ]
    }
   ],
   "source": [
    "import cv2\n",
    "import csv\n",
    "\n",
    "# === PARAMETERS ===\n",
    "video_path = r\"Z:\\projects\\sequence_squad\\revision_data\\organised_data\\animals\\seq120_implant1\\recording1_30-07-2025\\video\\videos\\BACK_CAM_seq120_30-07-2025.avi\"\n",
    "\n",
    "frame_number = 600000 \n",
    "frame_number = 520000 \n",
    "\n",
    "\n",
    "output_file = '\\\\'.join(video_path.split(\"\\\\\")[0:-1]) + '\\\\port_centroids.txt' \n",
    "max_points = 5\n",
    "\n",
    "# === VARIABLES ===\n",
    "points = []\n",
    "\n",
    "def click_event(event, x, y, flags, param):\n",
    "    global points\n",
    "    \n",
    "    if event == cv2.EVENT_LBUTTONDOWN:\n",
    "        points.append((x, y))\n",
    "        print(f\"Point {len(points)}: ({x}, {y})\")\n",
    "\n",
    "        # draw a small circle on the image\n",
    "        cv2.circle(param, (x, y), 4, (0, 0, 255), -1)\n",
    "        cv2.imshow(\"Frame\", param)\n",
    "\n",
    "        # stop if we got enough points\n",
    "        if len(points) == max_points:\n",
    "            print(\"5 points collected. Saving to file...\")\n",
    "\n",
    "            # save to CSV\n",
    "            with open(output_file, \"w\", newline=\"\") as f:\n",
    "                writer = csv.writer(f)\n",
    "                writer.writerow([\"x\", \"y\"])\n",
    "                writer.writerows(points)\n",
    "\n",
    "            cv2.destroyAllWindows()\n",
    "\n",
    "# === LOAD VIDEO ===\n",
    "cap = cv2.VideoCapture(video_path)\n",
    "cap.set(cv2.CAP_PROP_POS_FRAMES, frame_number)\n",
    "\n",
    "ret, frame = cap.read()\n",
    "cap.release()\n",
    "\n",
    "if not ret:\n",
    "    print(\"Could not read the frame.\")\n",
    "else:\n",
    "    cv2.imshow(\"Frame\", frame)\n",
    "    cv2.setMouseCallback(\"Frame\", click_event, frame.copy())  # pass frame copy for drawing\n",
    "    cv2.waitKey(0)\n",
    "    cv2.destroyAllWindows()"
   ]
  },
  {
   "cell_type": "code",
   "execution_count": null,
   "id": "16201b69",
   "metadata": {},
   "outputs": [],
   "source": []
  },
  {
   "cell_type": "code",
   "execution_count": null,
   "id": "519470a2",
   "metadata": {},
   "outputs": [],
   "source": []
  }
 ],
 "metadata": {
  "kernelspec": {
   "display_name": "analysis_main",
   "language": "python",
   "name": "python3"
  },
  "language_info": {
   "codemirror_mode": {
    "name": "ipython",
    "version": 3
   },
   "file_extension": ".py",
   "mimetype": "text/x-python",
   "name": "python",
   "nbconvert_exporter": "python",
   "pygments_lexer": "ipython3",
   "version": "3.10.18"
  }
 },
 "nbformat": 4,
 "nbformat_minor": 5
}
