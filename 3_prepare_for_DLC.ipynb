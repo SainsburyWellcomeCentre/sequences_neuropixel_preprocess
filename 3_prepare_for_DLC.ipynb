{
 "cells": [
  {
   "cell_type": "markdown",
   "metadata": {},
   "source": [
    "# import "
   ]
  },
  {
   "cell_type": "code",
   "execution_count": 1,
   "metadata": {},
   "outputs": [],
   "source": [
    "\n",
    "from pathlib import Path, PurePosixPath\n",
    "from os.path import abspath\n",
    "from loguru import logger\n",
    "import sys\n",
    "import os\n",
    "import numpy as np\n",
    "import pickle\n",
    "import os\n",
    "from rich.progress import (\n",
    "    Progress,\n",
    "    BarColumn,\n",
    "    TextColumn,\n",
    "    ProgressColumn,\n",
    ")\n",
    "from rich.text import Text\n",
    "from datetime import timedelta\n",
    "from myterial import (\n",
    "    orange,\n",
    "    teal_light,\n",
    "    light_blue_light,\n",
    ")\n",
    "\n",
    "class TimeRemainingColumn(ProgressColumn):\n",
    "    \"\"\"Renders estimated time remaining.\"\"\"\n",
    "\n",
    "    _table_column = None\n",
    "    # Only refresh twice a second to prevent jitter\n",
    "    max_refresh = 0.5\n",
    "\n",
    "    def render(self, task):\n",
    "        \"\"\"Show time remaining.\"\"\"\n",
    "        remaining = task.time_remaining\n",
    "        if remaining is None:\n",
    "            return Text(\"-:--:--\", style=teal_light)\n",
    "        remaining_delta = timedelta(seconds=int(remaining))\n",
    "        return Text(\"remaining: \" + str(remaining_delta), style=teal_light)\n",
    "\n",
    "\n",
    "class TimeElapsedColumn(ProgressColumn):\n",
    "    \"\"\"Renders estimated time elapsed.\"\"\"\n",
    "\n",
    "    _table_column = None\n",
    "    # Only refresh twice a second to prevent jitter\n",
    "    max_refresh = 0.5\n",
    "\n",
    "    def render(self, task):\n",
    "        \"\"\"Show time elapsed.\"\"\"\n",
    "        elapsed = task.elapsed\n",
    "        if elapsed is None:\n",
    "            return Text(\"-:--:--\", style=light_blue_light)\n",
    "        elapsed_delta = timedelta(seconds=int(elapsed))\n",
    "        return Text(\"elapsed: \" + str(elapsed_delta), style=light_blue_light)\n",
    "\n",
    "\n",
    "class SpeedColumn(TextColumn):\n",
    "    _renderable_cache = {}\n",
    "    _table_column = None\n",
    "\n",
    "    def __init__(self, *args):\n",
    "        pass\n",
    "\n",
    "    def render(self, task):\n",
    "        if task.speed is None:\n",
    "            return \" \"\n",
    "        else:\n",
    "            return f\"{task.speed:.1f} steps/s\"\n",
    "\n",
    "\n",
    "COLUMNS = [\n",
    "    BarColumn(bar_width=None),\n",
    "    \"Completed: \",\n",
    "    TextColumn(\"[bold magenta]Completed {task.completed}/{task.total}\"),\n",
    "    \"[progress.percentage]{task.percentage:>3.0f}%\",\n",
    "    \"•\",\n",
    "    \"Speed: \",\n",
    "    SpeedColumn(),\n",
    "    \"•\",\n",
    "    \"Remaining: \",\n",
    "    TimeRemainingColumn(),\n",
    "    \"Elpsed: \",\n",
    "    TimeElapsedColumn(),\n",
    "]\n",
    "\n",
    "progress = Progress(*COLUMNS, transient=False,)\n",
    "\n",
    "progess_with_description = Progress(\n",
    "    *([TextColumn(\"[bold salmon]Task: {task.description}\")] + COLUMNS),\n",
    "    transient=False,\n",
    ")\n",
    "\n",
    "\n",
    "def track(iterable, total=None, description=\"Working...\", transient=False):\n",
    "    \"\"\"\n",
    "        Spawns a progress bar to monitor the progress of a for loop over\n",
    "        an iterable sequence with detailed information.\n",
    "\n",
    "        Arguments:\n",
    "            iterable: list or other iterable object\n",
    "            total: int. Total length of iterable\n",
    "            description: str. Text to preprend to the progress bar.\n",
    "\n",
    "        Returs:\n",
    "            elements of iterable\n",
    "    \"\"\"\n",
    "    description = f\"[{orange}]\" + description\n",
    "    columns = [description] + COLUMNS\n",
    "\n",
    "    if total is None:\n",
    "        try:\n",
    "            total = len(iterable)\n",
    "        except Exception:\n",
    "            raise ValueError(\n",
    "                \"Could not get total from iterable, pass a total value.\"\n",
    "            )\n",
    "\n",
    "    track_progress = Progress(*columns, transient=transient)\n",
    "\n",
    "    with track_progress:\n",
    "        yield from track_progress.track(\n",
    "            iterable, total=total, description=description,\n",
    "        )\n",
    "\n",
    "\n",
    "def create_bash_files(NAME, video_files,bash_folder,winstor_folder,above_ceph_out,BASH_TEMPLATE,BASH_INSERT,make_test_video):\n",
    "\n",
    "    logger.info(\n",
    "        f\"Found {len(video_files)} videos left to track. Generating bash files.\"\n",
    "    )\n",
    "    for index,video in enumerate(track(video_files)):\n",
    "        \n",
    "        # set video path\n",
    "        winstor_video_path = winstor_folder / video\n",
    "\n",
    "        # define path for final data to be save out \n",
    "        winstor_save_path = '/ceph/sjones/' + '/'.join(above_ceph_out[index].parts[1::]) + '/video/tracking/'\n",
    "        # local non ceph version for creating data file struct \n",
    "        winstor_save_path_local = r'\\\\'.join(above_ceph_out[index].parts) + r'\\video\\tracking\\\\'\n",
    "        \n",
    "        # LEGACY CODE, in the end i didnt split the files up like this\n",
    "        # if str(video_files[index]).split('_')[1] == 'task':\n",
    "        #     winstor_save_path = winstor_save_path + '/2_task'\n",
    "        #     winstor_save_path_local = winstor_save_path_local + '2_task\\\\'\n",
    "        # elif str(video_files[index]).split('_')[1] == 'presleep':\n",
    "        #     winstor_save_path = winstor_save_path + '/1_presleep'\n",
    "        #     winstor_save_path_local = winstor_save_path_local + '1_presleep\\\\'\n",
    "        # elif str(video_files[index]).split('_')[1] == 'postleep':\n",
    "        #     winstor_save_path = winstor_save_path + '/3_postsleep'\n",
    "        #     winstor_save_path_local = winstor_save_path_local + '3_postsleep\\\\'\n",
    "            \n",
    "        if not os.path.exists(winstor_save_path_local):\n",
    "            print('creating out path: ' + winstor_save_path_local)\n",
    "            os.makedirs(winstor_save_path_local)\n",
    "        \n",
    "        # create bash file\n",
    "        bash_content = BASH_INSERT.replace(\n",
    "            \"VIDEO\", str(winstor_video_path)\n",
    "        ).replace(\"DEST\", str(winstor_save_path)).replace(\"NUMBER\",str(index+1))\n",
    "\n",
    "        BASH_TEMPLATE = BASH_TEMPLATE + bash_content \n",
    "        \n",
    "        if make_test_video:\n",
    "            BASH_TEMPLATE = BASH_TEMPLATE.replace(\"FALSE\", \"TRUE\")\n",
    "\n",
    "        # write bash file\n",
    "        bash_path = bash_folder / (NAME + \".sh\")\n",
    "        with open(bash_path, \"w\") as fout:\n",
    "            fout.write(BASH_TEMPLATE)\n",
    "\n",
    "        # replacement strings\n",
    "        WINDOWS_LINE_ENDING = b'\\r\\n'\n",
    "        UNIX_LINE_ENDING = b'\\n'\n",
    "        # relative or absolute file path, e.g.:\n",
    "        file_path = bash_path\n",
    "        with open(file_path, 'rb') as open_file:\n",
    "            content = open_file.read()\n",
    "\n",
    "        content = content.replace(WINDOWS_LINE_ENDING, UNIX_LINE_ENDING)\n",
    "        with open(file_path, 'wb') as open_file:\n",
    "            open_file.write(content)\n",
    "            \n",
    "        "
   ]
  },
  {
   "cell_type": "markdown",
   "metadata": {},
   "source": [
    "# set paths"
   ]
  },
  {
   "cell_type": "code",
   "execution_count": 2,
   "metadata": {},
   "outputs": [
    {
     "name": "stdout",
     "output_type": "stream",
     "text": [
      "seq052\n",
      "BACK_CAM_seq052_10-07-2025.avi\n",
      "Z:\\projects\\sequence_squad\\revision_data\\organised_data\\animals\\\\seq052_implant1\\recording3_10-07-2025\n",
      "seq052\n",
      "BACK_CAM_seq052_11-07-2025.avi\n",
      "Z:\\projects\\sequence_squad\\revision_data\\organised_data\\animals\\\\seq052_implant1\\recording4_11-07-2025\n",
      "seq052\n",
      "BACK_CAM_seq052_17-06-2025.avi\n",
      "Z:\\projects\\sequence_squad\\revision_data\\organised_data\\animals\\\\seq052_implant1\\recording1_17-06-2025\n",
      "seq052\n",
      "BACK_CAM_seq052_17-07-2025.avi\n",
      "Z:\\projects\\sequence_squad\\revision_data\\organised_data\\animals\\\\seq052_implant1\\recording5_17-07-2025\n",
      "seq052\n",
      "BACK_CAM_seq052_18-06-2025.avi\n",
      "Z:\\projects\\sequence_squad\\revision_data\\organised_data\\animals\\\\seq052_implant1\\recording2_18-06-2025\n",
      "seq052\n",
      "BACK_CAM_seq052_18-07-2025.avi\n",
      "Z:\\projects\\sequence_squad\\revision_data\\organised_data\\animals\\\\seq052_implant1\\recording6_18-07-2025\n",
      "seq052\n",
      "BACK_CAM_seq052_22-07-2025.avi\n",
      "Z:\\projects\\sequence_squad\\revision_data\\organised_data\\animals\\\\seq052_implant1\\recording7_22-07-2025\n",
      "seq052\n",
      "BACK_CAM_seq052_23-07-2025.avi\n",
      "Z:\\projects\\sequence_squad\\revision_data\\organised_data\\animals\\\\seq052_implant1\\recording8_23-07-2025\n",
      "seq054\n",
      "BACK_CAM_seq054_11-07-2025.avi\n",
      "Z:\\projects\\sequence_squad\\revision_data\\organised_data\\animals\\\\seq054_implant1\\recording1_11-07-2025\n",
      "seq054\n",
      "BACK_CAM_seq054_12-07-2025.avi\n",
      "Z:\\projects\\sequence_squad\\revision_data\\organised_data\\animals\\\\seq054_implant1\\recording2_12-07-2025\n",
      "seq054\n",
      "BACK_CAM_seq054_16-07-2025.avi\n",
      "Z:\\projects\\sequence_squad\\revision_data\\organised_data\\animals\\\\seq054_implant1\\recording3_16-07-2025\n",
      "seq054\n",
      "BACK_CAM_seq054_17-07-2025.avi\n",
      "Z:\\projects\\sequence_squad\\revision_data\\organised_data\\animals\\\\seq054_implant1\\recording4_17-07-2025\n",
      "seq054\n",
      "BACK_CAM_seq054_22-07-2025.avi\n",
      "Z:\\projects\\sequence_squad\\revision_data\\organised_data\\animals\\\\seq054_implant1\\recording5_22-07-2025\n",
      "seq054\n",
      "BACK_CAM_seq054_23-07-2025.avi\n",
      "Z:\\projects\\sequence_squad\\revision_data\\organised_data\\animals\\\\seq054_implant1\\recording6_23-07-2025\n",
      "seq059\n",
      "BACK_CAM_seq059_09-07-2025.avi\n",
      "Z:\\projects\\sequence_squad\\revision_data\\organised_data\\animals\\\\seq059_implant1\\recording5_09-07-2025\n",
      "seq059\n",
      "BACK_CAM_seq059_10-07-2025.avi\n",
      "Z:\\projects\\sequence_squad\\revision_data\\organised_data\\animals\\\\seq059_implant1\\recording6_10-07-2025\n",
      "seq059\n",
      "BACK_CAM_seq059_17-06-2025.avi\n",
      "Z:\\projects\\sequence_squad\\revision_data\\organised_data\\animals\\\\seq059_implant1\\recording1_17-06-2025\n",
      "seq059\n",
      "BACK_CAM_seq059_18-06-2025.avi\n",
      "Z:\\projects\\sequence_squad\\revision_data\\organised_data\\animals\\\\seq059_implant1\\recording2_18-06-2025\n",
      "seq059\n",
      "BACK_CAM_seq059_24-06-2025.avi\n",
      "Z:\\projects\\sequence_squad\\revision_data\\organised_data\\animals\\\\seq059_implant1\\recording3_24-06-2025\n",
      "seq059\n",
      "BACK_CAM_seq059_25-06-2025.avi\n",
      "Z:\\projects\\sequence_squad\\revision_data\\organised_data\\animals\\\\seq059_implant1\\recording4_25-06-2025\n",
      "seq052\n",
      "ABOVE_CAM_seq052_10-07-2025.avi\n",
      "Z:\\projects\\sequence_squad\\revision_data\\organised_data\\animals\\\\seq052_implant1\\recording3_10-07-2025\n",
      "seq052\n",
      "ABOVE_CAM_seq052_11-07-2025.avi\n",
      "Z:\\projects\\sequence_squad\\revision_data\\organised_data\\animals\\\\seq052_implant1\\recording4_11-07-2025\n",
      "seq052\n",
      "ABOVE_CAM_seq052_17-06-2025.avi\n",
      "Z:\\projects\\sequence_squad\\revision_data\\organised_data\\animals\\\\seq052_implant1\\recording1_17-06-2025\n",
      "seq052\n",
      "ABOVE_CAM_seq052_17-07-2025.avi\n",
      "Z:\\projects\\sequence_squad\\revision_data\\organised_data\\animals\\\\seq052_implant1\\recording5_17-07-2025\n",
      "seq052\n",
      "ABOVE_CAM_seq052_18-06-2025.avi\n",
      "Z:\\projects\\sequence_squad\\revision_data\\organised_data\\animals\\\\seq052_implant1\\recording2_18-06-2025\n",
      "seq052\n",
      "ABOVE_CAM_seq052_18-07-2025.avi\n",
      "Z:\\projects\\sequence_squad\\revision_data\\organised_data\\animals\\\\seq052_implant1\\recording6_18-07-2025\n",
      "seq052\n",
      "ABOVE_CAM_seq052_22-07-2025.avi\n",
      "Z:\\projects\\sequence_squad\\revision_data\\organised_data\\animals\\\\seq052_implant1\\recording7_22-07-2025\n",
      "seq052\n",
      "ABOVE_CAM_seq052_23-07-2025.avi\n",
      "Z:\\projects\\sequence_squad\\revision_data\\organised_data\\animals\\\\seq052_implant1\\recording8_23-07-2025\n",
      "seq054\n",
      "ABOVE_CAM_seq054_11-07-2025.avi\n",
      "Z:\\projects\\sequence_squad\\revision_data\\organised_data\\animals\\\\seq054_implant1\\recording1_11-07-2025\n",
      "seq054\n",
      "ABOVE_CAM_seq054_12-07-2025.avi\n",
      "Z:\\projects\\sequence_squad\\revision_data\\organised_data\\animals\\\\seq054_implant1\\recording2_12-07-2025\n",
      "seq054\n",
      "ABOVE_CAM_seq054_16-07-2025.avi\n",
      "Z:\\projects\\sequence_squad\\revision_data\\organised_data\\animals\\\\seq054_implant1\\recording3_16-07-2025\n",
      "seq054\n",
      "ABOVE_CAM_seq054_17-07-2025.avi\n",
      "Z:\\projects\\sequence_squad\\revision_data\\organised_data\\animals\\\\seq054_implant1\\recording4_17-07-2025\n",
      "seq054\n",
      "ABOVE_CAM_seq054_22-07-2025.avi\n",
      "Z:\\projects\\sequence_squad\\revision_data\\organised_data\\animals\\\\seq054_implant1\\recording5_22-07-2025\n",
      "seq054\n",
      "ABOVE_CAM_seq054_23-07-2025.avi\n",
      "Z:\\projects\\sequence_squad\\revision_data\\organised_data\\animals\\\\seq054_implant1\\recording6_23-07-2025\n",
      "seq059\n",
      "ABOVE_CAM_seq059_09-07-2025.avi\n",
      "Z:\\projects\\sequence_squad\\revision_data\\organised_data\\animals\\\\seq059_implant1\\recording5_09-07-2025\n",
      "seq059\n",
      "ABOVE_CAM_seq059_10-07-2025.avi\n",
      "Z:\\projects\\sequence_squad\\revision_data\\organised_data\\animals\\\\seq059_implant1\\recording6_10-07-2025\n",
      "seq059\n",
      "ABOVE_CAM_seq059_17-06-2025.avi\n",
      "Z:\\projects\\sequence_squad\\revision_data\\organised_data\\animals\\\\seq059_implant1\\recording1_17-06-2025\n",
      "seq059\n",
      "ABOVE_CAM_seq059_18-06-2025.avi\n",
      "Z:\\projects\\sequence_squad\\revision_data\\organised_data\\animals\\\\seq059_implant1\\recording2_18-06-2025\n",
      "seq059\n",
      "ABOVE_CAM_seq059_24-06-2025.avi\n",
      "Z:\\projects\\sequence_squad\\revision_data\\organised_data\\animals\\\\seq059_implant1\\recording3_24-06-2025\n",
      "seq059\n",
      "ABOVE_CAM_seq059_25-06-2025.avi\n",
      "Z:\\projects\\sequence_squad\\revision_data\\organised_data\\animals\\\\seq059_implant1\\recording4_25-06-2025\n"
     ]
    }
   ],
   "source": [
    "videos_path = r\"Z:\\projects\\sequence_squad\\revision_data\\emmett_revisions\\DLC_video_dump\\\\\"\n",
    "base_out_path = r\"Z:\\projects\\sequence_squad\\revision_data\\organised_data\\animals\\\\\"\n",
    " \n",
    "\n",
    "back_video_files = []\n",
    "back_ceph_out = []  \n",
    "for avi_file in os.listdir(os.path.join(videos_path,'BACK')):\n",
    "    if '.avi' in avi_file:\n",
    "        back_video_files.append(Path(avi_file))\n",
    "        \n",
    "        mouse_name = avi_file.split('_')[2]\n",
    "        if mouse_name == 'AP5':\n",
    "            date = avi_file.split('_')[5].split('.')[0]\n",
    "            if avi_file.split('_')[4] == 'LR':\n",
    "                mouse_name= mouse_name.lower() + avi_file.split('_')[4].lower()\n",
    "            else:\n",
    "                mouse_name = mouse_name.lower() + avi_file.split('_')[4] \n",
    "        else:\n",
    "            date = avi_file.split('_')[3].split('.')[0]\n",
    "            \n",
    "        print(mouse_name)\n",
    "        for file in os.listdir(base_out_path):\n",
    "            if mouse_name in file:\n",
    "                for recording in os.listdir(os.path.join(base_out_path,file)):\n",
    "                    if date in recording:\n",
    "                        back_ceph_out.append(Path(base_out_path) / file / recording)\n",
    "                        print(avi_file)\n",
    "                        print(os.path.join(base_out_path , file , recording))\n",
    "                        break\n",
    "                    \n",
    "        \n",
    "above_video_files = []\n",
    "above_ceph_out = []  \n",
    "for avi_file in os.listdir(os.path.join(videos_path,'ABOVE')):\n",
    "    if '.avi' in avi_file:\n",
    "        above_video_files.append(Path(avi_file))\n",
    "        \n",
    "        mouse_name = avi_file.split('_')[2]\n",
    "        if mouse_name == 'AP5':\n",
    "            date = avi_file.split('_')[5].split('.')[0]\n",
    "            if avi_file.split('_')[4] == 'LR':\n",
    "                mouse_name= mouse_name.lower() + avi_file.split('_')[4].lower()\n",
    "            else:\n",
    "                mouse_name = mouse_name.lower() + avi_file.split('_')[4] \n",
    "        else:\n",
    "            date = avi_file.split('_')[3].split('.')[0]\n",
    "            \n",
    "        print(mouse_name)\n",
    "        for file in os.listdir(base_out_path):\n",
    "            if mouse_name in file:\n",
    "                for recording in os.listdir(os.path.join(base_out_path,file)):\n",
    "                    if date in recording:\n",
    "                        above_ceph_out.append(Path(base_out_path) / file / recording)\n",
    "                        print(avi_file)\n",
    "                        print(os.path.join(base_out_path , file , recording))\n",
    "                        break\n",
    "\n",
    "\n",
    "## split for AP5 and hippocampus dlc rigs (these setups required different dlc networks dur to lighting)\n",
    "\n",
    "hpc_back_video_files = []\n",
    "ap5_back_video_files = []\n",
    "for file in back_video_files:\n",
    "    if 'AP5' in str(file) or 'seq052' in str(file):\n",
    "        ap5_back_video_files.append(Path(file))\n",
    "    else:\n",
    "        hpc_back_video_files.append(Path(file))\n",
    "\n",
    "hpc_back_ceph_out = []\n",
    "ap5_back_ceph_out = []\n",
    "for file in back_ceph_out:\n",
    "    if 'ap5' in str(file) or 'seq052' in str(file):\n",
    "        ap5_back_ceph_out.append(Path(file))\n",
    "    else:\n",
    "        hpc_back_ceph_out.append(Path(file))\n",
    "\n"
   ]
  },
  {
   "cell_type": "code",
   "execution_count": 20,
   "metadata": {},
   "outputs": [
    {
     "data": {
      "text/plain": [
       "['ABOVE',\n",
       " 'above_test',\n",
       " 'BACK',\n",
       " 'back_test',\n",
       " 'hpc',\n",
       " 'labelled_networks_for_lars',\n",
       " 'videos_for_training_DLC']"
      ]
     },
     "execution_count": 20,
     "metadata": {},
     "output_type": "execute_result"
    }
   ],
   "source": [
    "os.listdir(videos_path)"
   ]
  },
  {
   "cell_type": "markdown",
   "metadata": {},
   "source": [
    "## create bash files for running DLC on the cluster"
   ]
  },
  {
   "cell_type": "markdown",
   "metadata": {},
   "source": [
    "# make data frame for slurm"
   ]
  },
  {
   "cell_type": "code",
   "execution_count": 47,
   "metadata": {},
   "outputs": [
    {
     "data": {
      "text/html": [
       "<pre style=\"white-space:pre;overflow-x:auto;line-height:normal;font-family:Menlo,'DejaVu Sans Mono',consolas,'Courier New',monospace\"></pre>\n"
      ],
      "text/plain": []
     },
     "metadata": {},
     "output_type": "display_data"
    },
    {
     "data": {
      "text/html": [
       "<pre style=\"white-space:pre;overflow-x:auto;line-height:normal;font-family:Menlo,'DejaVu Sans Mono',consolas,'Courier New',monospace\"></pre>\n"
      ],
      "text/plain": []
     },
     "metadata": {},
     "output_type": "display_data"
    },
    {
     "data": {
      "text/html": [
       "<pre style=\"white-space:pre;overflow-x:auto;line-height:normal;font-family:Menlo,'DejaVu Sans Mono',consolas,'Courier New',monospace\"></pre>\n"
      ],
      "text/plain": []
     },
     "metadata": {},
     "output_type": "display_data"
    },
    {
     "data": {
      "text/html": [
       "<pre style=\"white-space:pre;overflow-x:auto;line-height:normal;font-family:Menlo,'DejaVu Sans Mono',consolas,'Courier New',monospace\"></pre>\n"
      ],
      "text/plain": []
     },
     "metadata": {},
     "output_type": "display_data"
    }
   ],
   "source": [
    "import pandas as pd\n",
    "\n",
    "def create_file_path_df(network_yaml, video_files, winstor_folder, ceph_out,existing_df,NAME):\n",
    "\n",
    "    for index,video in enumerate(track(video_files)):\n",
    "        \n",
    "        # set video path\n",
    "        winstor_video_path = winstor_folder / video\n",
    "        \n",
    "        # define path for final data to be save out \n",
    "        winstor_save_path = '/ceph/sjones/' + '/'.join(ceph_out[index].parts[1::]) + '/video/tracking/'\n",
    "        # local non ceph version for creating data file struct \n",
    "        winstor_save_path_local = r'\\\\'.join(ceph_out[index].parts) + r'\\video\\tracking\\\\'\n",
    "            \n",
    "        if not os.path.exists(winstor_save_path_local):\n",
    "            print('creating out path: ' + winstor_save_path_local)\n",
    "            os.makedirs(winstor_save_path_local)\n",
    "            \n",
    "        mir = '_'.join([winstor_save_path.split('/')[8].split('_')[0], winstor_save_path.split('/')[8].split('_')[-1][-1],winstor_save_path.split('/')[9].split('_')[0][-1]])\n",
    "            \n",
    "        df = pd.DataFrame({'Type': [NAME],\n",
    "                        'mouse': [mir], \n",
    "                        'network': [network_yaml],\n",
    "                        'outpath': [winstor_save_path],\n",
    "                        'video_files': [winstor_video_path]})\n",
    "        \n",
    "        # concatinate to existing df \n",
    "        existing_df = pd.concat([existing_df, df], ignore_index=True)\n",
    "        \n",
    "    return existing_df\n",
    "\n",
    "out_df = pd.DataFrame({})\n",
    "\n",
    "# ABOVE\n",
    "winstor_folder = PurePosixPath(r\"/ceph/sjones/projects/sequence_squad/revision_data/emmett_revisions/DLC_video_dump/ABOVE/\")\n",
    "network_yaml = r'/ceph/sjones/projects/sequence_squad/revision_data/emmett_revisions/DLC_video_dump/hpc/trained_networks/ABOVE_general-emmett-2024-12-04/config.yaml'\n",
    "video_files = above_video_files\n",
    "ceph_out = above_ceph_out\n",
    "out_df = create_file_path_df(network_yaml, video_files, winstor_folder, ceph_out,out_df,'above')\n",
    "\n",
    "# BACK_AP5\n",
    "winstor_folder = PurePosixPath(r\"/ceph/sjones/projects/sequence_squad/revision_data/emmett_revisions/DLC_video_dump/BACK/\")\n",
    "network_yaml = r'/ceph/sjones/projects/sequence_squad/revision_data/emmett_revisions/DLC_video_dump/hpc/trained_networks/BACK_ap5_rig-emmett-2024-12-04/config.yaml'\n",
    "video_files = ap5_back_video_files\n",
    "ceph_out = ap5_back_ceph_out\n",
    "out_df = create_file_path_df(network_yaml, video_files, winstor_folder, ceph_out,out_df,'back_ap5')\n",
    "\n",
    "# BACK_Hippocampus\n",
    "network_yaml = r'/ceph/sjones/projects/sequence_squad/revision_data/emmett_revisions/DLC_video_dump/hpc/trained_networks/BACK_hippocampus-emmett-2024-12-10/config.yaml'\n",
    "video_files = hpc_back_video_files\n",
    "ceph_out = hpc_back_ceph_out\n",
    "out_df = create_file_path_df(network_yaml, video_files, winstor_folder, ceph_out,out_df,'back_hpc')\n",
    "\n",
    "# BACK_Hippocampus\n",
    "network_yaml = r'/ceph/sjones/projects/sequence_squad/revision_data/emmett_revisions/DLC_video_dump/hpc/trained_networks/BACK_PORTS_hpc_rig-emmett-2024-12-04/config.yaml'\n",
    "video_files = back_video_files\n",
    "ceph_out = back_ceph_out\n",
    "out_df = create_file_path_df(network_yaml, video_files, winstor_folder, ceph_out,out_df,'back_ports')\n",
    "\n",
    "out_df.to_csv(r'Z:\\projects\\sequence_squad\\revision_data\\emmett_revisions\\DLC_video_dump\\hpc\\video_paths_for_slurm.csv')"
   ]
  },
  {
   "cell_type": "code",
   "execution_count": null,
   "metadata": {},
   "outputs": [],
   "source": []
  },
  {
   "cell_type": "code",
   "execution_count": 24,
   "metadata": {},
   "outputs": [
    {
     "data": {
      "text/plain": [
       "WindowsPath('BACK_CAM_seq054_11-07-2025.avi')"
      ]
     },
     "execution_count": 24,
     "metadata": {},
     "output_type": "execute_result"
    }
   ],
   "source": [
    "video"
   ]
  },
  {
   "cell_type": "markdown",
   "metadata": {},
   "source": [
    "# make individual bash files to execute "
   ]
  },
  {
   "cell_type": "code",
   "execution_count": 25,
   "metadata": {},
   "outputs": [
    {
     "name": "stderr",
     "output_type": "stream",
     "text": [
      "\u001b[32m2024-12-30 09:03:40.059\u001b[0m | \u001b[1mINFO    \u001b[0m | \u001b[36m__main__\u001b[0m:\u001b[36mcreate_bash_files\u001b[0m:\u001b[36m126\u001b[0m - \u001b[1mFound 58 videos left to track. Generating bash files.\u001b[0m\n"
     ]
    },
    {
     "data": {
      "application/vnd.jupyter.widget-view+json": {
       "model_id": "98551e367dd74cb1ae7684c9f6f2f125",
       "version_major": 2,
       "version_minor": 0
      },
      "text/plain": [
       "Output()"
      ]
     },
     "metadata": {},
     "output_type": "display_data"
    },
    {
     "data": {
      "text/html": [
       "<pre style=\"white-space:pre;overflow-x:auto;line-height:normal;font-family:Menlo,'DejaVu Sans Mono',consolas,'Courier New',monospace\"></pre>\n"
      ],
      "text/plain": []
     },
     "metadata": {},
     "output_type": "display_data"
    },
    {
     "name": "stderr",
     "output_type": "stream",
     "text": [
      "\u001b[32m2024-12-30 09:03:50.525\u001b[0m | \u001b[1mINFO    \u001b[0m | \u001b[36m__main__\u001b[0m:\u001b[36mcreate_bash_files\u001b[0m:\u001b[36m126\u001b[0m - \u001b[1mFound 10 videos left to track. Generating bash files.\u001b[0m\n"
     ]
    },
    {
     "data": {
      "application/vnd.jupyter.widget-view+json": {
       "model_id": "5f45dac30eda4f1c95afe5ac2efe7e61",
       "version_major": 2,
       "version_minor": 0
      },
      "text/plain": [
       "Output()"
      ]
     },
     "metadata": {},
     "output_type": "display_data"
    },
    {
     "name": "stdout",
     "output_type": "stream",
     "text": [
      "done\n"
     ]
    },
    {
     "data": {
      "text/html": [
       "<pre style=\"white-space:pre;overflow-x:auto;line-height:normal;font-family:Menlo,'DejaVu Sans Mono',consolas,'Courier New',monospace\"></pre>\n"
      ],
      "text/plain": []
     },
     "metadata": {},
     "output_type": "display_data"
    },
    {
     "name": "stderr",
     "output_type": "stream",
     "text": [
      "\u001b[32m2024-12-30 09:03:51.903\u001b[0m | \u001b[1mINFO    \u001b[0m | \u001b[36m__main__\u001b[0m:\u001b[36mcreate_bash_files\u001b[0m:\u001b[36m126\u001b[0m - \u001b[1mFound 19 videos left to track. Generating bash files.\u001b[0m\n"
     ]
    },
    {
     "data": {
      "application/vnd.jupyter.widget-view+json": {
       "model_id": "e3a95c7485c142df810ba18664c996d9",
       "version_major": 2,
       "version_minor": 0
      },
      "text/plain": [
       "Output()"
      ]
     },
     "metadata": {},
     "output_type": "display_data"
    },
    {
     "name": "stdout",
     "output_type": "stream",
     "text": [
      "done\n"
     ]
    },
    {
     "data": {
      "text/html": [
       "<pre style=\"white-space:pre;overflow-x:auto;line-height:normal;font-family:Menlo,'DejaVu Sans Mono',consolas,'Courier New',monospace\"></pre>\n"
      ],
      "text/plain": []
     },
     "metadata": {},
     "output_type": "display_data"
    },
    {
     "name": "stderr",
     "output_type": "stream",
     "text": [
      "\u001b[32m2024-12-30 09:03:54.553\u001b[0m | \u001b[1mINFO    \u001b[0m | \u001b[36m__main__\u001b[0m:\u001b[36mcreate_bash_files\u001b[0m:\u001b[36m126\u001b[0m - \u001b[1mFound 29 videos left to track. Generating bash files.\u001b[0m\n"
     ]
    },
    {
     "data": {
      "application/vnd.jupyter.widget-view+json": {
       "model_id": "a127687801fd434a8c4354be1c09bd55",
       "version_major": 2,
       "version_minor": 0
      },
      "text/plain": [
       "Output()"
      ]
     },
     "metadata": {},
     "output_type": "display_data"
    },
    {
     "name": "stdout",
     "output_type": "stream",
     "text": [
      "done\n"
     ]
    },
    {
     "data": {
      "text/html": [
       "<pre style=\"white-space:pre;overflow-x:auto;line-height:normal;font-family:Menlo,'DejaVu Sans Mono',consolas,'Courier New',monospace\"></pre>\n"
      ],
      "text/plain": []
     },
     "metadata": {},
     "output_type": "display_data"
    },
    {
     "name": "stdout",
     "output_type": "stream",
     "text": [
      "done\n"
     ]
    }
   ],
   "source": [
    "# /nfs/nhome/live/emmettt/.conda/envs/DEEPLABCUT/bin/python\n",
    "# ^^ this points it to the right verison of python on the hpc, otherwise it used the miniconda version which is not the same as the conda env\n",
    "\n",
    "make_test_video = True\n",
    "\n",
    "# prepare bash files\n",
    "BASH_TEMPLATE = \"\"\"#! /bin/bash\n",
    "\"\"\"\n",
    "\n",
    "## ABOVE\n",
    "BASH_INSERT = \"\"\"\n",
    "\n",
    "echo \"running ABOVE tracking NUMBER\" \n",
    "/nfs/nhome/live/emmettt/.conda/envs/DEEPLABCUT/bin/python dlc_on_hpc.py '/ceph/sjones/projects/sequence_squad/revision_data/emmett_revisions/DLC_video_dump/hpc/trained_networks/ABOVE_general-emmett-2024-12-04/config.yaml' '/VIDEO' '/DEST' 'FALSE'\n",
    "\"\"\"\n",
    "create_bash_files('Above',above_video_files,Path(r\"Z:\\projects\\sequence_squad\\revision_data\\emmett_revisions\\DLC_video_dump\\hpc\\\\\"),PurePosixPath(r\"/ceph/sjones/projects/sequence_squad/revision_data/emmett_revisions/DLC_video_dump/ABOVE/\"),above_ceph_out,BASH_TEMPLATE,BASH_INSERT,make_test_video)\n",
    "print('done')\n",
    "\n",
    "## BACK_AP5\n",
    "BASH_INSERT = \"\"\"\n",
    "\n",
    "echo \"running BACK AP5 tracking NUMBER\" \n",
    "/nfs/nhome/live/emmettt/.conda/envs/DEEPLABCUT/bin/python dlc_on_hpc.py '/ceph/sjones/projects/sequence_squad/revision_data/emmett_revisions/DLC_video_dump/hpc/trained_networks/BACK_ap5_rig-emmett-2024-12-04/config.yaml' '/VIDEO' '/DEST' 'FALSE'\n",
    "\"\"\"\n",
    "create_bash_files('Back_ap5',ap5_back_video_files,Path(r\"Z:\\projects\\sequence_squad\\revision_data\\emmett_revisions\\DLC_video_dump\\hpc\\\\\"),PurePosixPath(r\"/ceph/sjones/projects/sequence_squad/revision_data/emmett_revisions/DLC_video_dump/BACK/\"),ap5_back_ceph_out,BASH_TEMPLATE,BASH_INSERT,make_test_video)\n",
    "print('done')\n",
    "\n",
    "## BACK_Hippocampus\n",
    "BASH_INSERT = \"\"\"\n",
    "\n",
    "echo \"running BACK hippocampus tracking NUMBER\" \n",
    "/nfs/nhome/live/emmettt/.conda/envs/DEEPLABCUT/bin/python dlc_on_hpc.py '/ceph/sjones/projects/sequence_squad/revision_data/emmett_revisions/DLC_video_dump/hpc/trained_networks/BACK_hippocampus-emmett-2024-12-10/config.yaml' '/VIDEO' '/DEST' 'FALSE'\n",
    "\"\"\"\n",
    "create_bash_files('Back_hipp',hpc_back_video_files,Path(r\"Z:\\projects\\sequence_squad\\revision_data\\emmett_revisions\\DLC_video_dump\\hpc\\\\\"),PurePosixPath(r\"/ceph/sjones/projects/sequence_squad/revision_data/emmett_revisions/DLC_video_dump/BACK/\"),hpc_back_ceph_out,BASH_TEMPLATE,BASH_INSERT,make_test_video)\n",
    "print('done')\n",
    "\n",
    "\n",
    "## BACK PORTS\n",
    "BASH_INSERT = \"\"\"\n",
    "\n",
    "echo \"running BACK PORTS tracking NUMBER\" \n",
    "/nfs/nhome/live/emmettt/.conda/envs/DEEPLABCUT/bin/python dlc_on_hpc.py '/ceph/sjones/projects/sequence_squad/revision_data/emmett_revisions/DLC_video_dump/hpc/trained_networks/BACK_PORTS_hpc_rig-emmett-2024-12-04/config.yaml' '/VIDEO' '/DEST' 'FALSE'\n",
    "\"\"\"\n",
    "create_bash_files('Back_Ports',back_video_files,Path(r\"Z:\\projects\\sequence_squad\\revision_data\\emmett_revisions\\DLC_video_dump\\hpc\\\\\"),PurePosixPath(r\"/ceph/sjones/projects/sequence_squad/revision_data/emmett_revisions/DLC_video_dump/BACK/\"),back_ceph_out,BASH_TEMPLATE,BASH_INSERT,make_test_video)\n",
    "print('done')\n"
   ]
  },
  {
   "cell_type": "code",
   "execution_count": null,
   "metadata": {},
   "outputs": [],
   "source": []
  },
  {
   "cell_type": "code",
   "execution_count": null,
   "metadata": {},
   "outputs": [],
   "source": []
  }
 ],
 "metadata": {
  "kernelspec": {
   "display_name": "analysis_main",
   "language": "python",
   "name": "python3"
  },
  "language_info": {
   "codemirror_mode": {
    "name": "ipython",
    "version": 3
   },
   "file_extension": ".py",
   "mimetype": "text/x-python",
   "name": "python",
   "nbconvert_exporter": "python",
   "pygments_lexer": "ipython3",
   "version": "3.10.18"
  }
 },
 "nbformat": 4,
 "nbformat_minor": 4
}
