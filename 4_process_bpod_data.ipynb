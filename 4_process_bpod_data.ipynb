{
 "cells": [
  {
   "cell_type": "markdown",
   "metadata": {},
   "source": [
    "# import"
   ]
  },
  {
   "cell_type": "code",
   "execution_count": 23,
   "metadata": {},
   "outputs": [],
   "source": [
    "## import functions from .py utils file: \n",
    "from Utilities.preprocessing import *\n",
    "import os\n",
    "from IPython.display import display, HTML\n",
    "from tqdm import tqdm \n",
    "from datetime import datetime\n"
   ]
  },
  {
   "cell_type": "markdown",
   "metadata": {},
   "source": [
    "# paths"
   ]
  },
  {
   "cell_type": "code",
   "execution_count": 41,
   "metadata": {},
   "outputs": [],
   "source": [
    "InputPath = r\"Z:\\projects\\sequence_squad\\revision_data\\lars_recordings\\bpod_raw_data\\\\\"\n",
    "# InputPath = r\"D:\\EPHYS_BPOD_data_example\\\\\"\n",
    "\n",
    "out_path_base = r\"Z:\\projects\\sequence_squad\\revision_data\\organised_data\\animals\\\\\"\n",
    "\n",
    "Replace = True\n",
    "\n"
   ]
  },
  {
   "cell_type": "markdown",
   "metadata": {},
   "source": [
    "# set paths"
   ]
  },
  {
   "cell_type": "code",
   "execution_count": 42,
   "metadata": {},
   "outputs": [],
   "source": [
    "\n",
    "# find main paths for the animals\n",
    "main_paths = []\n",
    "Animal_ID = []\n",
    "Animal_save_paths = []\n",
    "Animal_bpod_save_paths = []\n",
    "Animal_ephys_dates = []\n",
    "\n",
    "# for each animal in the bpod dump path \n",
    "for mouse in os.listdir(InputPath):\n",
    "    if not mouse in  ['FakeSubject','SEQ037','SEQ038']:\n",
    "        save_paths = []\n",
    "        # find dates that match an ephys recording in teh organised folder\n",
    "        for animal_file in os.listdir(out_path_base):\n",
    "            # for seq00 animals\n",
    "            if mouse.lower() in animal_file:\n",
    "                recordings = os.listdir(os.path.join(out_path_base,animal_file))\n",
    "                # Sort by date\n",
    "                sorted_recordings = sorted(recordings, key=lambda x: datetime.strptime(x.split('_')[1], '%d-%m-%Y'))\n",
    "                ephys_dates = list(recording.split('_')[-1] for recording in sorted_recordings)\n",
    "                save_paths = list(os.path.join(out_path_base,animal_file,recording) for recording in sorted_recordings)\n",
    "                break\n",
    "                ## extract date from recordings\n",
    "           \n",
    "            elif 'ap5' in mouse.lower():\n",
    "                if 'lr' in mouse.lower():\n",
    "                    recordings = os.listdir(os.path.join(out_path_base,'ap5lr_implant1'))\n",
    "                    # Sort by date\n",
    "                    sorted_recordings = sorted(recordings, key=lambda x: datetime.strptime(x.split('_')[1], '%d-%m-%Y'))\n",
    "                    ephys_dates = list(recording.split('_')[-1] for recording in sorted_recordings)\n",
    "                    save_paths = list(os.path.join(out_path_base,'ap5lr_implant1',recording) for recording in sorted_recordings)\n",
    "                    break\n",
    "                elif 'L' in mouse:\n",
    "                    recordings = os.listdir(os.path.join(out_path_base,'ap5L_implant1'))\n",
    "                    # Sort by date\n",
    "                    sorted_recordings = sorted(recordings, key=lambda x: datetime.strptime(x.split('_')[1], '%d-%m-%Y'))\n",
    "                    ephys_dates = list(recording.split('_')[-1] for recording in sorted_recordings)\n",
    "                    save_paths = list(os.path.join(out_path_base,'ap5L_implant1',recording) for recording in sorted_recordings)\n",
    "                    break\n",
    "                elif 'R' in mouse:\n",
    "                    recordings = os.listdir(os.path.join(out_path_base,'ap5R_implant1'))\n",
    "                    # Sort by date\n",
    "                    sorted_recordings = sorted(recordings, key=lambda x: datetime.strptime(x.split('_')[1], '%d-%m-%Y'))\n",
    "                    ephys_dates = list(recording.split('_')[-1] for recording in sorted_recordings)\n",
    "                    save_paths = list(os.path.join(out_path_base,'ap5R_implant1',recording) for recording in sorted_recordings)\n",
    "                    break\n",
    "            elif mouse in animal_file:\n",
    "                recordings = os.listdir(os.path.join(out_path_base,animal_file))\n",
    "                # Sort by date\n",
    "                sorted_recordings = sorted(recordings, key=lambda x: datetime.strptime(x.split('_')[1], '%d-%m-%Y'))\n",
    "                ephys_dates = list(recording.split('_')[-1] for recording in sorted_recordings)\n",
    "                save_paths = list(os.path.join(out_path_base,animal_file,recording) for recording in sorted_recordings)\n",
    "                break\n",
    "\n",
    "        if len(save_paths) > 0: # ignore for files that are not in ephys organised folder\n",
    "            # create full save paths \n",
    "            full_save_paths = []\n",
    "            for save_path in save_paths:\n",
    "                new_path = os.path.join(save_path,r'behav_sync/2_task/')\n",
    "                if not os.path.isdir(new_path):\n",
    "                    print('making path')\n",
    "                    print(new_path)\n",
    "                    os.makedirs(new_path)\n",
    "                full_save_paths+=[new_path]\n",
    "            Animal_bpod_save_paths += [full_save_paths]\n",
    "            Animal_save_paths += [save_paths]\n",
    "            Animal_ephys_dates += [ephys_dates]\n",
    "            Animal_ID += [mouse]\n",
    "            main_paths+=[os.path.join(InputPath,mouse,r'Sequence_Automated','Session Data//')]\n",
    "        \n",
    "      \n"
   ]
  },
  {
   "cell_type": "code",
   "execution_count": 40,
   "metadata": {},
   "outputs": [
    {
     "data": {
      "text/plain": [
       "[]"
      ]
     },
     "execution_count": 40,
     "metadata": {},
     "output_type": "execute_result"
    }
   ],
   "source": [
    "Animal_ID"
   ]
  },
  {
   "cell_type": "code",
   "execution_count": 43,
   "metadata": {},
   "outputs": [
    {
     "data": {
      "text/plain": [
       "['Z:\\\\projects\\\\sequence_squad\\\\revision_data\\\\lars_recordings\\\\bpod_raw_data\\\\\\\\seq052\\\\Sequence_Automated\\\\Session Data//',\n",
       " 'Z:\\\\projects\\\\sequence_squad\\\\revision_data\\\\lars_recordings\\\\bpod_raw_data\\\\\\\\seq054\\\\Sequence_Automated\\\\Session Data//',\n",
       " 'Z:\\\\projects\\\\sequence_squad\\\\revision_data\\\\lars_recordings\\\\bpod_raw_data\\\\\\\\seq059\\\\Sequence_Automated\\\\Session Data//',\n",
       " 'Z:\\\\projects\\\\sequence_squad\\\\revision_data\\\\lars_recordings\\\\bpod_raw_data\\\\\\\\seq061\\\\Sequence_Automated\\\\Session Data//',\n",
       " 'Z:\\\\projects\\\\sequence_squad\\\\revision_data\\\\lars_recordings\\\\bpod_raw_data\\\\\\\\seq120\\\\Sequence_Automated\\\\Session Data//']"
      ]
     },
     "execution_count": 43,
     "metadata": {},
     "output_type": "execute_result"
    }
   ],
   "source": [
    "main_paths"
   ]
  },
  {
   "cell_type": "code",
   "execution_count": 44,
   "metadata": {},
   "outputs": [
    {
     "data": {
      "text/html": [
       "<b>Processing data for: seq052</b>"
      ],
      "text/plain": [
       "<IPython.core.display.HTML object>"
      ]
     },
     "metadata": {},
     "output_type": "display_data"
    },
    {
     "name": "stdout",
     "output_type": "stream",
     "text": [
      "seq052_Sequence_Automated_20250617_111219.mat\n",
      "seq052_Sequence_Automated_20250618_113251.mat\n",
      "seq052_Sequence_Automated_20250710_095707.mat\n",
      "seq052_Sequence_Automated_20250711_102529.mat\n",
      "seq052_Sequence_Automated_20250717_113405.mat\n",
      "seq052_Sequence_Automated_20250718_121051.mat\n",
      "seq052_Sequence_Automated_20250722_120114.mat\n",
      "seq052_Sequence_Automated_20250723_122422.mat\n"
     ]
    },
    {
     "name": "stderr",
     "output_type": "stream",
     "text": [
      "  0%|          | 0/8 [00:00<?, ?it/s]"
     ]
    },
    {
     "name": "stdout",
     "output_type": "stream",
     "text": [
      "0\n",
      "Z:\\projects\\sequence_squad\\revision_data\\organised_data\\animals\\\\seq052_implant1\\recording1_17-06-2025\\\\\\behav_sync\\2_task\\Preprocessed\\\\00_20250617_111219_Tue\n"
     ]
    },
    {
     "name": "stderr",
     "output_type": "stream",
     "text": [
      " 12%|█▎        | 1/8 [00:03<00:23,  3.39s/it]"
     ]
    },
    {
     "name": "stdout",
     "output_type": "stream",
     "text": [
      "1\n",
      "Z:\\projects\\sequence_squad\\revision_data\\organised_data\\animals\\\\seq052_implant1\\recording2_18-06-2025\\\\\\behav_sync\\2_task\\Preprocessed\\\\01_20250618_113251_Wed\n"
     ]
    },
    {
     "name": "stderr",
     "output_type": "stream",
     "text": [
      " 25%|██▌       | 2/8 [00:05<00:15,  2.65s/it]"
     ]
    },
    {
     "name": "stdout",
     "output_type": "stream",
     "text": [
      "2\n",
      "Z:\\projects\\sequence_squad\\revision_data\\organised_data\\animals\\\\seq052_implant1\\recording3_10-07-2025\\\\\\behav_sync\\2_task\\Preprocessed\\\\02_20250710_095707_Thu\n"
     ]
    },
    {
     "name": "stderr",
     "output_type": "stream",
     "text": [
      " 38%|███▊      | 3/8 [00:07<00:12,  2.53s/it]"
     ]
    },
    {
     "name": "stdout",
     "output_type": "stream",
     "text": [
      "3\n",
      "Z:\\projects\\sequence_squad\\revision_data\\organised_data\\animals\\\\seq052_implant1\\recording4_11-07-2025\\\\\\behav_sync\\2_task\\Preprocessed\\\\03_20250711_102529_Fri\n"
     ]
    },
    {
     "name": "stderr",
     "output_type": "stream",
     "text": [
      " 50%|█████     | 4/8 [00:10<00:10,  2.56s/it]"
     ]
    },
    {
     "name": "stdout",
     "output_type": "stream",
     "text": [
      "4\n",
      "Z:\\projects\\sequence_squad\\revision_data\\organised_data\\animals\\\\seq052_implant1\\recording5_17-07-2025\\\\\\behav_sync\\2_task\\Preprocessed\\\\04_20250717_113405_Thu\n"
     ]
    },
    {
     "name": "stderr",
     "output_type": "stream",
     "text": [
      " 62%|██████▎   | 5/8 [00:13<00:07,  2.55s/it]"
     ]
    },
    {
     "name": "stdout",
     "output_type": "stream",
     "text": [
      "5\n",
      "Z:\\projects\\sequence_squad\\revision_data\\organised_data\\animals\\\\seq052_implant1\\recording6_18-07-2025\\\\\\behav_sync\\2_task\\Preprocessed\\\\05_20250718_121051_Fri\n"
     ]
    },
    {
     "name": "stderr",
     "output_type": "stream",
     "text": [
      " 75%|███████▌  | 6/8 [00:18<00:06,  3.41s/it]"
     ]
    },
    {
     "name": "stdout",
     "output_type": "stream",
     "text": [
      "6\n",
      "Z:\\projects\\sequence_squad\\revision_data\\organised_data\\animals\\\\seq052_implant1\\recording7_22-07-2025\\\\\\behav_sync\\2_task\\Preprocessed\\\\06_20250722_120114_Tue\n"
     ]
    },
    {
     "name": "stderr",
     "output_type": "stream",
     "text": [
      " 88%|████████▊ | 7/8 [00:20<00:03,  3.13s/it]"
     ]
    },
    {
     "name": "stdout",
     "output_type": "stream",
     "text": [
      "7\n",
      "Z:\\projects\\sequence_squad\\revision_data\\organised_data\\animals\\\\seq052_implant1\\recording8_23-07-2025\\\\\\behav_sync\\2_task\\Preprocessed\\\\07_20250723_122422_Wed\n"
     ]
    },
    {
     "name": "stderr",
     "output_type": "stream",
     "text": [
      "100%|██████████| 8/8 [00:23<00:00,  2.88s/it]\n"
     ]
    },
    {
     "data": {
      "text/html": [
       "<b>Processing data for: seq054</b>"
      ],
      "text/plain": [
       "<IPython.core.display.HTML object>"
      ]
     },
     "metadata": {},
     "output_type": "display_data"
    },
    {
     "name": "stdout",
     "output_type": "stream",
     "text": [
      "seq054_Sequence_Automated_20250711_112339.mat\n",
      "seq054_Sequence_Automated_20250712_124007.mat\n",
      "seq054_Sequence_Automated_20250716_143452.mat\n",
      "seq054_Sequence_Automated_20250717_110211.mat\n",
      "seq054_Sequence_Automated_20250722_122742.mat\n",
      "seq054_Sequence_Automated_20250723_120739.mat\n"
     ]
    },
    {
     "name": "stderr",
     "output_type": "stream",
     "text": [
      "  0%|          | 0/6 [00:00<?, ?it/s]"
     ]
    },
    {
     "name": "stdout",
     "output_type": "stream",
     "text": [
      "0\n",
      "Z:\\projects\\sequence_squad\\revision_data\\organised_data\\animals\\\\seq054_implant1\\recording1_11-07-2025\\\\\\behav_sync\\2_task\\Preprocessed\\\\00_20250711_112339_Fri\n"
     ]
    },
    {
     "name": "stderr",
     "output_type": "stream",
     "text": [
      " 17%|█▋        | 1/6 [00:02<00:12,  2.48s/it]"
     ]
    },
    {
     "name": "stdout",
     "output_type": "stream",
     "text": [
      "1\n",
      "Z:\\projects\\sequence_squad\\revision_data\\organised_data\\animals\\\\seq054_implant1\\recording2_12-07-2025\\\\\\behav_sync\\2_task\\Preprocessed\\\\01_20250712_124007_Sat\n"
     ]
    },
    {
     "name": "stderr",
     "output_type": "stream",
     "text": [
      " 33%|███▎      | 2/6 [00:05<00:10,  2.55s/it]"
     ]
    },
    {
     "name": "stdout",
     "output_type": "stream",
     "text": [
      "2\n",
      "Z:\\projects\\sequence_squad\\revision_data\\organised_data\\animals\\\\seq054_implant1\\recording3_16-07-2025\\\\\\behav_sync\\2_task\\Preprocessed\\\\02_20250716_143452_Wed\n"
     ]
    },
    {
     "name": "stderr",
     "output_type": "stream",
     "text": [
      " 50%|█████     | 3/6 [00:08<00:08,  2.82s/it]"
     ]
    },
    {
     "name": "stdout",
     "output_type": "stream",
     "text": [
      "3\n",
      "Z:\\projects\\sequence_squad\\revision_data\\organised_data\\animals\\\\seq054_implant1\\recording4_17-07-2025\\\\\\behav_sync\\2_task\\Preprocessed\\\\03_20250717_110211_Thu\n"
     ]
    },
    {
     "name": "stderr",
     "output_type": "stream",
     "text": [
      " 67%|██████▋   | 4/6 [00:10<00:05,  2.68s/it]"
     ]
    },
    {
     "name": "stdout",
     "output_type": "stream",
     "text": [
      "4\n",
      "Z:\\projects\\sequence_squad\\revision_data\\organised_data\\animals\\\\seq054_implant1\\recording5_22-07-2025\\\\\\behav_sync\\2_task\\Preprocessed\\\\04_20250722_122742_Tue\n"
     ]
    },
    {
     "name": "stderr",
     "output_type": "stream",
     "text": [
      " 83%|████████▎ | 5/6 [00:13<00:02,  2.70s/it]"
     ]
    },
    {
     "name": "stdout",
     "output_type": "stream",
     "text": [
      "5\n",
      "Z:\\projects\\sequence_squad\\revision_data\\organised_data\\animals\\\\seq054_implant1\\recording6_23-07-2025\\\\\\behav_sync\\2_task\\Preprocessed\\\\05_20250723_120739_Wed\n"
     ]
    },
    {
     "name": "stderr",
     "output_type": "stream",
     "text": [
      "100%|██████████| 6/6 [00:15<00:00,  2.59s/it]\n"
     ]
    },
    {
     "data": {
      "text/html": [
       "<b>Processing data for: seq059</b>"
      ],
      "text/plain": [
       "<IPython.core.display.HTML object>"
      ]
     },
     "metadata": {},
     "output_type": "display_data"
    },
    {
     "name": "stdout",
     "output_type": "stream",
     "text": [
      "seq059_Sequence_Automated_20250617_105252.mat\n",
      "seq059_Sequence_Automated_20250618_105914.mat\n",
      "seq059_Sequence_Automated_20250624_111130.mat\n",
      "seq059_Sequence_Automated_20250625_110059.mat\n",
      "seq059_Sequence_Automated_20250709_100021.mat\n",
      "seq059_Sequence_Automated_20250710_104122.mat\n"
     ]
    },
    {
     "name": "stderr",
     "output_type": "stream",
     "text": [
      "  0%|          | 0/6 [00:00<?, ?it/s]"
     ]
    },
    {
     "name": "stdout",
     "output_type": "stream",
     "text": [
      "0\n",
      "Z:\\projects\\sequence_squad\\revision_data\\organised_data\\animals\\\\seq059_implant1\\recording1_17-06-2025\\\\\\behav_sync\\2_task\\Preprocessed\\\\00_20250617_105252_Tue\n"
     ]
    },
    {
     "name": "stderr",
     "output_type": "stream",
     "text": [
      " 17%|█▋        | 1/6 [00:02<00:12,  2.54s/it]"
     ]
    },
    {
     "name": "stdout",
     "output_type": "stream",
     "text": [
      "1\n",
      "Z:\\projects\\sequence_squad\\revision_data\\organised_data\\animals\\\\seq059_implant1\\recording2_18-06-2025\\\\\\behav_sync\\2_task\\Preprocessed\\\\01_20250618_105914_Wed\n"
     ]
    },
    {
     "name": "stderr",
     "output_type": "stream",
     "text": [
      " 33%|███▎      | 2/6 [00:04<00:09,  2.49s/it]"
     ]
    },
    {
     "name": "stdout",
     "output_type": "stream",
     "text": [
      "2\n",
      "Z:\\projects\\sequence_squad\\revision_data\\organised_data\\animals\\\\seq059_implant1\\recording3_24-06-2025\\\\\\behav_sync\\2_task\\Preprocessed\\\\02_20250624_111130_Tue\n"
     ]
    },
    {
     "name": "stderr",
     "output_type": "stream",
     "text": [
      " 50%|█████     | 3/6 [00:07<00:07,  2.38s/it]"
     ]
    },
    {
     "name": "stdout",
     "output_type": "stream",
     "text": [
      "3\n",
      "Z:\\projects\\sequence_squad\\revision_data\\organised_data\\animals\\\\seq059_implant1\\recording4_25-06-2025\\\\\\behav_sync\\2_task\\Preprocessed\\\\03_20250625_110059_Wed\n"
     ]
    },
    {
     "name": "stderr",
     "output_type": "stream",
     "text": [
      " 67%|██████▋   | 4/6 [00:10<00:05,  2.57s/it]"
     ]
    },
    {
     "name": "stdout",
     "output_type": "stream",
     "text": [
      "4\n",
      "Z:\\projects\\sequence_squad\\revision_data\\organised_data\\animals\\\\seq059_implant1\\recording5_09-07-2025\\\\\\behav_sync\\2_task\\Preprocessed\\\\04_20250709_100021_Wed\n"
     ]
    },
    {
     "name": "stderr",
     "output_type": "stream",
     "text": [
      " 83%|████████▎ | 5/6 [00:12<00:02,  2.51s/it]"
     ]
    },
    {
     "name": "stdout",
     "output_type": "stream",
     "text": [
      "5\n",
      "Z:\\projects\\sequence_squad\\revision_data\\organised_data\\animals\\\\seq059_implant1\\recording6_10-07-2025\\\\\\behav_sync\\2_task\\Preprocessed\\\\05_20250710_104122_Thu\n"
     ]
    },
    {
     "name": "stderr",
     "output_type": "stream",
     "text": [
      "100%|██████████| 6/6 [00:14<00:00,  2.41s/it]\n"
     ]
    },
    {
     "data": {
      "text/html": [
       "<b>Processing data for: seq061</b>"
      ],
      "text/plain": [
       "<IPython.core.display.HTML object>"
      ]
     },
     "metadata": {},
     "output_type": "display_data"
    },
    {
     "name": "stdout",
     "output_type": "stream",
     "text": [
      "seq061_Sequence_Automated_20250812_111236.mat\n"
     ]
    },
    {
     "name": "stderr",
     "output_type": "stream",
     "text": [
      "  0%|          | 0/1 [00:00<?, ?it/s]"
     ]
    },
    {
     "name": "stdout",
     "output_type": "stream",
     "text": [
      "0\n",
      "Z:\\projects\\sequence_squad\\revision_data\\organised_data\\animals\\\\seq061_implant1\\recording1_12-08-2025\\\\\\behav_sync\\2_task\\Preprocessed\\\\00_20250812_111236_Tue\n"
     ]
    },
    {
     "name": "stderr",
     "output_type": "stream",
     "text": [
      "100%|██████████| 1/1 [00:02<00:00,  2.33s/it]\n"
     ]
    },
    {
     "data": {
      "text/html": [
       "<b>Processing data for: seq120</b>"
      ],
      "text/plain": [
       "<IPython.core.display.HTML object>"
      ]
     },
     "metadata": {},
     "output_type": "display_data"
    },
    {
     "name": "stdout",
     "output_type": "stream",
     "text": [
      "seq120_Sequence_Automated_20250730_102442.mat\n",
      "seq120_Sequence_Automated_20250731_135340.mat\n",
      "seq120_Sequence_Automated_20250801_100229.mat\n",
      "seq120_Sequence_Automated_20250804_135051.mat\n",
      "seq120_Sequence_Automated_20250805_110232.mat\n",
      "seq120_Sequence_Automated_20250806_095508.mat\n",
      "seq120_Sequence_Automated_20250807_100828.mat\n",
      "seq120_Sequence_Automated_20250808_104807.mat\n"
     ]
    },
    {
     "name": "stderr",
     "output_type": "stream",
     "text": [
      "  0%|          | 0/8 [00:00<?, ?it/s]"
     ]
    },
    {
     "name": "stdout",
     "output_type": "stream",
     "text": [
      "0\n",
      "Z:\\projects\\sequence_squad\\revision_data\\organised_data\\animals\\\\seq120_implant1\\recording1_30-07-2025\\\\\\behav_sync\\2_task\\Preprocessed\\\\00_20250730_102442_Wed\n"
     ]
    },
    {
     "name": "stderr",
     "output_type": "stream",
     "text": [
      " 12%|█▎        | 1/8 [00:03<00:23,  3.33s/it]"
     ]
    },
    {
     "name": "stdout",
     "output_type": "stream",
     "text": [
      "1\n",
      "Z:\\projects\\sequence_squad\\revision_data\\organised_data\\animals\\\\seq120_implant1\\recording2_31-07-2025\\\\\\behav_sync\\2_task\\Preprocessed\\\\01_20250731_135340_Thu\n"
     ]
    },
    {
     "name": "stderr",
     "output_type": "stream",
     "text": [
      " 25%|██▌       | 2/8 [00:06<00:20,  3.46s/it]"
     ]
    },
    {
     "name": "stdout",
     "output_type": "stream",
     "text": [
      "2\n",
      "Z:\\projects\\sequence_squad\\revision_data\\organised_data\\animals\\\\seq120_implant1\\recording3_01-08-2025\\\\\\behav_sync\\2_task\\Preprocessed\\\\02_20250801_100229_Fri\n"
     ]
    },
    {
     "name": "stderr",
     "output_type": "stream",
     "text": [
      " 38%|███▊      | 3/8 [00:09<00:14,  2.98s/it]"
     ]
    },
    {
     "name": "stdout",
     "output_type": "stream",
     "text": [
      "3\n",
      "Z:\\projects\\sequence_squad\\revision_data\\organised_data\\animals\\\\seq120_implant1\\recording5_04-08-2025\\\\\\behav_sync\\2_task\\Preprocessed\\\\03_20250804_135051_Mon\n"
     ]
    },
    {
     "name": "stderr",
     "output_type": "stream",
     "text": [
      " 50%|█████     | 4/8 [00:11<00:11,  2.82s/it]"
     ]
    },
    {
     "name": "stdout",
     "output_type": "stream",
     "text": [
      "4\n",
      "Z:\\projects\\sequence_squad\\revision_data\\organised_data\\animals\\\\seq120_implant1\\recording6_05-08-2025\\\\\\behav_sync\\2_task\\Preprocessed\\\\04_20250805_110232_Tue\n"
     ]
    },
    {
     "name": "stderr",
     "output_type": "stream",
     "text": [
      " 62%|██████▎   | 5/8 [00:14<00:08,  2.80s/it]"
     ]
    },
    {
     "name": "stdout",
     "output_type": "stream",
     "text": [
      "5\n",
      "Z:\\projects\\sequence_squad\\revision_data\\organised_data\\animals\\\\seq120_implant1\\recording7_06-08-2025\\\\\\behav_sync\\2_task\\Preprocessed\\\\05_20250806_095508_Wed\n"
     ]
    },
    {
     "name": "stderr",
     "output_type": "stream",
     "text": [
      " 75%|███████▌  | 6/8 [00:17<00:05,  2.99s/it]"
     ]
    },
    {
     "name": "stdout",
     "output_type": "stream",
     "text": [
      "6\n",
      "Z:\\projects\\sequence_squad\\revision_data\\organised_data\\animals\\\\seq120_implant1\\recording8_07-08-2025\\\\\\behav_sync\\2_task\\Preprocessed\\\\06_20250807_100828_Thu\n"
     ]
    },
    {
     "name": "stderr",
     "output_type": "stream",
     "text": [
      " 88%|████████▊ | 7/8 [00:20<00:02,  2.95s/it]"
     ]
    },
    {
     "name": "stdout",
     "output_type": "stream",
     "text": [
      "7\n",
      "Z:\\projects\\sequence_squad\\revision_data\\organised_data\\animals\\\\seq120_implant1\\recording9_08-08-2025\\\\\\behav_sync\\2_task\\Preprocessed\\\\07_20250808_104807_Fri\n"
     ]
    },
    {
     "name": "stderr",
     "output_type": "stream",
     "text": [
      "100%|██████████| 8/8 [00:23<00:00,  2.92s/it]\n"
     ]
    }
   ],
   "source": [
    "        \n",
    "#### MAIN ####\n",
    "for Animal_index, CurrentAnimal in enumerate(Animal_ID):\n",
    "    # if CurrentAnimal == 'SP156':\n",
    "        \n",
    "    display(HTML(f\"<b>Processing data for: {CurrentAnimal}</b>\"))\n",
    "    \n",
    "    #Load Behavioural data:\n",
    "    Behav_data, Sessions,Path,FileDates = Import_EPHYS_Bpod_DataFiles(main_paths[Animal_index],Animal_ephys_dates[Animal_index])\n",
    "    \n",
    "    Processed = ('')\n",
    "    Skipped = ('')\n",
    "\n",
    "\n",
    "    for Session in tqdm(range(0, Sessions)):\n",
    "\n",
    "        print(Session)\n",
    "\n",
    "        filedate = FileDates[Session] + '_' + str(Behav_data[Session]['__header__'])[-25:-22]\n",
    "\n",
    "        if Session < 10:\n",
    "            Save_path = (Animal_save_paths[Animal_index][Session] + r'\\\\'+ r'\\behav_sync\\2_task\\Preprocessed' + r'\\\\0' + str(Session) + '_' + filedate)\n",
    "        else:\n",
    "            Save_path = (Animal_save_paths[Animal_index][Session] + r'\\\\' + r'\\behav_sync\\2_task\\Preprocessed' + r'\\\\' + str(Session) + '_' + filedate)\n",
    "            \n",
    "            \n",
    "        print(Save_path)\n",
    "\n",
    "        # see if dir exists already then use bool logic to detemrine if it needs to be processed or not\n",
    "        Process = check_and_create_directory(Save_path, Replace)\n",
    "\n",
    "        if Process == True:\n",
    "        \n",
    "            #Convert to python friendly format:\n",
    "            convert_nested_structs(Behav_data[Session])\n",
    "\n",
    "        #    # Extract GUI info\n",
    "            Trial_settings = todict(Behav_data[Session]['SessionData']['TrialSettings'][0])\n",
    "            FinalRewardAmount = []\n",
    "            for item in Behav_data[Session]['SessionData']['SessionVariables']['TLevel']:\n",
    "                TLevel = item\n",
    "                FinalRewardAmount = FinalRewardAmount + [Behav_data[Session]['SessionData']['SessionVariables']['TrainingLevels'][TLevel-1][4]]\n",
    "\n",
    "            # save out training levels on their own\n",
    "            filename = 'Preprocessed_TrainingLevels' \n",
    "            with open(Save_path + r'\\\\'+ filename, 'wb') as fp:\n",
    "                pickle.dump(Behav_data[Session]['SessionData']['SessionVariables']['TLevel'], fp)\n",
    "\n",
    "            # save out led intensites and reward amounts on their own:\n",
    "            LED_Intensities = pd.DataFrame({'Port1':Behav_data[Session]['SessionData']['SessionVariables']['LEDIntensitys']['port1'],\n",
    "                                            'Port2':Behav_data[Session]['SessionData']['SessionVariables']['LEDIntensitys']['port2'],\n",
    "                                            'Port3':Behav_data[Session]['SessionData']['SessionVariables']['LEDIntensitys']['port3'],\n",
    "                                            'Port4':Behav_data[Session]['SessionData']['SessionVariables']['LEDIntensitys']['port4'],\n",
    "                                            'Port5':Behav_data[Session]['SessionData']['SessionVariables']['LEDIntensitys']['port5']})\n",
    "            LED_Intensities.to_csv(Save_path + '/Preprocessed_LED_Intensities.csv')\n",
    "            RewardAmounts = pd.DataFrame({'Port1':Behav_data[Session]['SessionData']['SessionVariables']['RewardAmount']['port1'],\n",
    "                                        'Port2':Behav_data[Session]['SessionData']['SessionVariables']['RewardAmount']['port2'],\n",
    "                                        'Port3':Behav_data[Session]['SessionData']['SessionVariables']['RewardAmount']['port3'],\n",
    "                                        'Port4':Behav_data[Session]['SessionData']['SessionVariables']['RewardAmount']['port4'],\n",
    "                                        'Port5':Behav_data[Session]['SessionData']['SessionVariables']['RewardAmount']['port5']})\n",
    "            RewardAmounts.to_csv(Save_path + '/Preprocessed_RewardAmounts.csv')\n",
    "\n",
    "\n",
    "            #Extract PortIn times for each port and check for errors (inside this function):\n",
    "            All_PortIn_Times,All_PortOut_Times,All_Port_references = extract_poke_times(Behav_data[Session])\n",
    "\n",
    "            #remove nans (times when part [in or out poke] of the event was dropped for some reason by bpod)\n",
    "            All_PortIn_Times_fixed,All_PortOut_Times_fixed ,All_Port_references_fixed = remove_dropped_in_events(All_PortIn_Times,All_PortOut_Times,All_Port_references)\n",
    "            \n",
    "            # Resort these in time:\n",
    "            All_PortIn_Times_sorted,All_PortOut_Times_sorted,All_Port_references_sorted = time_sort(All_PortIn_Times,All_PortOut_Times,All_Port_references)\n",
    "\n",
    "            #extract reward times:\n",
    "            Reward_ts = extract_reward_times(Behav_data[Session])\n",
    "            \n",
    "            # find reward inds and align rewarded ts to poke events:\n",
    "            Rewarded_event_inds = find_reward_inds(All_PortIn_Times_sorted,All_Port_references_sorted,Reward_ts)\n",
    "            Reward_ts = np.asarray(Reward_ts)\n",
    "            Reward_ts = Reward_ts[np.logical_not(np.isnan(Reward_ts))]\n",
    "            Reward_ts = list(Reward_ts)\n",
    "            Reward_ts_aligned = align_trigger_to_index(Reward_ts,Rewarded_event_inds,All_Port_references_sorted)\n",
    "\n",
    "            #extract trial start time stamps\n",
    "            Trial_start_ts = extract_trial_timestamps(Behav_data[Session])\n",
    "\n",
    "            #extract trial end times:\n",
    "            Trial_end_ts = extract_trial_end_times(Behav_data[Session])\n",
    "\n",
    "            #determine trial IDs\n",
    "            trial_id = determine_trial_id(All_PortIn_Times_sorted,Trial_end_ts)\n",
    "\n",
    "            # align trial start and end times to poke events\n",
    "            trialstart_index = find_trialstart_index(trial_id)\n",
    "            trial_start_ts_aligned = align_trial_start_end_timestamps(trial_id,trialstart_index,Trial_start_ts)\n",
    "            trial_end_ts_aligned = align_trial_start_end_timestamps(trial_id,trialstart_index,Trial_end_ts)\n",
    "\n",
    "            #determine LED and reward states for each trial and align them to trials:\n",
    "            IntermediateRewards = []\n",
    "            LED_intensities = []\n",
    "            for item in Behav_data[Session]['SessionData']['SessionVariables']['TLevel']:\n",
    "                TLevel = item\n",
    "                IntermediateRewards = IntermediateRewards + [list(Behav_data[Session]['SessionData']['SessionVariables']['TrainingLevels'][TLevel-1][0:4])]\n",
    "                LED_intensities = LED_intensities + [list(Behav_data[Session]['SessionData']['SessionVariables']['TrainingLevels'][TLevel-1][6:10])]\n",
    "            aligned_LED_intensities = align_trial_start_end_timestamps(trial_id,trialstart_index,LED_intensities)\n",
    "            aligned_IntermediateRewards = align_trial_start_end_timestamps(trial_id,trialstart_index,IntermediateRewards)\n",
    "\n",
    "\n",
    "            Trial_start_Camera_Ts_aligned = ['temporary_spacer'] * len(trial_id)\n",
    "            Trial_end_Camera_Ts_aligned = ['temporary_spacer'] * len(trial_id)\n",
    "            First_poke_Camera_Ts_aligned = ['temporary_spacer'] * len(trial_id)\n",
    "\n",
    "            ## align Training level for each trial:\n",
    "            Training_Levels = align_opto_trials_to_dataframe(trial_id,Behav_data[Session]['SessionData']['SessionVariables']['TLevel'])\n",
    "\n",
    "            # make portin dataframe:\n",
    "            PortIn_df = pd.DataFrame(\n",
    "                {'Trial_id' : trial_id,\n",
    "                'Trial_Start' : trial_start_ts_aligned,\n",
    "                'Port': All_Port_references_sorted,\n",
    "                'PokeIn_Time': All_PortIn_Times_sorted,\n",
    "                'PokeOut_Time': All_PortOut_Times_sorted,\n",
    "                'Reward_Times': Reward_ts_aligned,\n",
    "                'Trial_End' : trial_end_ts_aligned,\n",
    "                'Port 2,3,4,5 LED intensities': aligned_LED_intensities,\n",
    "                'Port 1,2,3,4 RewardAmount':aligned_IntermediateRewards,\n",
    "                'BACK_Trial_Start_Camera_Time' : Trial_start_Camera_Ts_aligned,\n",
    "                'BACK_Trial_End_Camera_Time' : Trial_end_Camera_Ts_aligned,\n",
    "                'BACK_First_poke_Camera_Time' : First_poke_Camera_Ts_aligned,\n",
    "                'TrainingLevel': Training_Levels})\n",
    "\n",
    "            #Save Data\n",
    "            PortIn_df.to_csv(Save_path +'/PreProcessed_RawPokeData.csv')\n"
   ]
  },
  {
   "cell_type": "code",
   "execution_count": null,
   "metadata": {},
   "outputs": [],
   "source": []
  },
  {
   "cell_type": "code",
   "execution_count": null,
   "metadata": {},
   "outputs": [],
   "source": []
  },
  {
   "cell_type": "code",
   "execution_count": 16,
   "metadata": {},
   "outputs": [
    {
     "data": {
      "text/plain": [
       "['Sequence_Automated_CurrentTrainingLevel.mat',\n",
       " 'seq039_Sequence_Automated_20250601_105702.fig',\n",
       " 'seq039_Sequence_Automated_20250601_105702.mat',\n",
       " 'seq039_Sequence_Automated_20250602_134508.fig',\n",
       " 'seq039_Sequence_Automated_20250602_134508.mat',\n",
       " 'seq039_Sequence_Automated_20250603_084953.fig',\n",
       " 'seq039_Sequence_Automated_20250603_084953.mat',\n",
       " 'seq039_Sequence_Automated_20250604_084637.fig',\n",
       " 'seq039_Sequence_Automated_20250604_084637.mat',\n",
       " 'seq039_Sequence_Automated_20250604_084646.fig',\n",
       " 'seq039_Sequence_Automated_20250604_084646.mat',\n",
       " 'seq039_Sequence_Automated_20250605_081945.fig',\n",
       " 'seq039_Sequence_Automated_20250605_081945.mat',\n",
       " 'seq039_Sequence_Automated_20250606_103145.fig',\n",
       " 'seq039_Sequence_Automated_20250606_103145.mat',\n",
       " 'seq039_Sequence_Automated_20250607_152647.fig',\n",
       " 'seq039_Sequence_Automated_20250607_152647.mat',\n",
       " 'seq039_Sequence_Automated_20250609_111335.fig',\n",
       " 'seq039_Sequence_Automated_20250609_111335.mat',\n",
       " 'seq039_Sequence_Automated_20250610_125935.fig',\n",
       " 'seq039_Sequence_Automated_20250610_125935.mat',\n",
       " 'seq039_Sequence_Automated_20250610_130410.fig',\n",
       " 'seq039_Sequence_Automated_20250610_130410.mat',\n",
       " 'seq039_Sequence_Automated_20250611_144537.fig',\n",
       " 'seq039_Sequence_Automated_20250611_144537.mat',\n",
       " 'seq039_Sequence_Automated_20250612_170649.fig',\n",
       " 'seq039_Sequence_Automated_20250612_170649.mat',\n",
       " 'seq039_Sequence_Automated_20250613_141328.fig',\n",
       " 'seq039_Sequence_Automated_20250613_141328.mat',\n",
       " 'seq039_Sequence_Automated_20250614_142449.fig',\n",
       " 'seq039_Sequence_Automated_20250614_142449.mat',\n",
       " 'seq039_Sequence_Automated_20250615_164544.fig',\n",
       " 'seq039_Sequence_Automated_20250615_164544.mat',\n",
       " 'seq039_Sequence_Automated_20250616_111841.fig',\n",
       " 'seq039_Sequence_Automated_20250616_111841.mat',\n",
       " 'seq039_Sequence_Automated_20250617_080108.fig',\n",
       " 'seq039_Sequence_Automated_20250617_080108.mat',\n",
       " 'seq039_Sequence_Automated_20250618_081231.fig',\n",
       " 'seq039_Sequence_Automated_20250618_081231.mat',\n",
       " 'seq039_Sequence_Automated_20250619_082324.fig',\n",
       " 'seq039_Sequence_Automated_20250619_082324.mat',\n",
       " 'seq039_Sequence_Automated_20250620_084028.fig',\n",
       " 'seq039_Sequence_Automated_20250620_084028.mat',\n",
       " 'seq039_Sequence_Automated_20250621_120220.fig',\n",
       " 'seq039_Sequence_Automated_20250621_120220.mat',\n",
       " 'seq039_Sequence_Automated_20250622_093358.fig',\n",
       " 'seq039_Sequence_Automated_20250622_093358.mat',\n",
       " 'seq039_Sequence_Automated_20250623_125655.fig',\n",
       " 'seq039_Sequence_Automated_20250623_125655.mat',\n",
       " 'seq039_Sequence_Automated_20250624_085026.fig',\n",
       " 'seq039_Sequence_Automated_20250624_085026.mat',\n",
       " 'seq039_Sequence_Automated_20250625_083723.fig',\n",
       " 'seq039_Sequence_Automated_20250625_083723.mat',\n",
       " 'seq039_Sequence_Automated_20250626_092350.fig',\n",
       " 'seq039_Sequence_Automated_20250626_092350.mat',\n",
       " 'seq039_Sequence_Automated_20250627_124033.fig',\n",
       " 'seq039_Sequence_Automated_20250627_124033.mat']"
      ]
     },
     "execution_count": 16,
     "metadata": {},
     "output_type": "execute_result"
    }
   ],
   "source": [
    "Behav_Path"
   ]
  },
  {
   "cell_type": "code",
   "execution_count": 27,
   "metadata": {},
   "outputs": [
    {
     "name": "stdout",
     "output_type": "stream",
     "text": [
      "date is: 24-04-2025\n",
      "date is: 25-04-2025\n",
      "date is: 28-04-2025\n",
      "date is: 28-04-2025\n",
      "date is: 28-04-2025\n",
      "date is: 05-05-2025\n",
      "date is: 13-05-2025\n",
      "date is: 14-05-2025\n",
      "date is: 17-05-2025\n",
      "date is: 18-05-2025\n",
      "date is: 19-05-2025\n",
      "date is: 20-05-2025\n",
      "date is: 21-05-2025\n",
      "date is: 22-05-2025\n",
      "date is: 23-05-2025\n",
      "date is: 24-05-2025\n",
      "date is: 25-05-2025\n",
      "date is: 26-05-2025\n",
      "date is: 27-05-2025\n",
      "date is: 28-05-2025\n",
      "date is: 29-05-2025\n",
      "date is: 30-05-2025\n",
      "date is: 31-05-2025\n",
      "date is: 01-06-2025\n"
     ]
    }
   ],
   "source": [
    "InputPath = main_paths[Animal_index]              \n",
    "ephys_dates = Animal_ephys_dates[Animal_index]\n",
    "'''\n",
    "Load in all '.mat' files for a given folder if they are ephys sessions and convert them to python format. If there are dulplicate dates, ie. more than one matlab file for a given reocridng \n",
    "day, then only keep the largest one:\n",
    "'''\n",
    "Behav_Path = sorted(os.listdir(InputPath))\n",
    "sizes  = []\n",
    "added_dates = []\n",
    "to_process = []\n",
    "for file in Behav_Path:\n",
    "    if file[-2] == 'a': #if its a .mat and not a fig\n",
    "        if os.stat(InputPath+ file).st_size > 200000: #more thann 200kb \n",
    "            sizes += [os.stat(InputPath+ file).st_size]\n",
    "            if file != '.DS_Store': #if file is not the weird hidden file \n",
    "                \n",
    "                date = file.split('_')[-2][6:] + '-' + file.split('_')[-2][4:6] + '-' + file.split('_')[-2][:4]\n",
    "                print('date is: ' + date)\n",
    "                if date in ephys_dates:\n",
    "                    if date in added_dates: # code incase there are multiple npoid files for a given recording day - just keep the largest one\n",
    "                        print('duplicate date')\n",
    "                        duplicate_index = np.where(np.array(added_dates) ==date)[0][0]\n",
    "                        # if old duplicate file is larger than current then keep it\n",
    "                        if sizes[duplicate_index] > sizes[-1]:\n",
    "                            print('not replacing')\n",
    "                        else:\n",
    "                            print('replacing with...')\n",
    "                            #remove old duplicate \n",
    "                            to_process.pop(duplicate_index)\n",
    "                            added_dates.pop(duplicate_index)\n",
    "                            sizes.pop(duplicate_index)\n",
    "                            # replace with new one:\n",
    "                            print(file)\n",
    "                            added_dates += [date]\n",
    "                            to_process += [file]\n",
    "                    else:\n",
    "                        print(file)\n",
    "                        added_dates += [date]\n",
    "                        to_process += [file]\n",
    "                        \n",
    "Behav_Data = {} #set up file dict\n",
    "File_dates = []             \n",
    "Sessions = 0 \n",
    "for file in to_process: \n",
    "    Current_file = loadmat(InputPath + file)\n",
    "    Behav_Data[Sessions] = Current_file\n",
    "    Sessions = Sessions + 1\n",
    "    File_dates = File_dates + [file[-19:-4]]\n"
   ]
  },
  {
   "cell_type": "code",
   "execution_count": 32,
   "metadata": {},
   "outputs": [
    {
     "data": {
      "text/plain": [
       "['Z:\\\\projects\\\\sequence_squad\\\\revision_data\\\\lars_recordings\\\\bpod_raw_data\\\\\\\\seq035\\\\Sequence_Automated\\\\Session Data//',\n",
       " 'Z:\\\\projects\\\\sequence_squad\\\\revision_data\\\\lars_recordings\\\\bpod_raw_data\\\\\\\\seq037\\\\Sequence_Automated\\\\Session Data//',\n",
       " 'Z:\\\\projects\\\\sequence_squad\\\\revision_data\\\\lars_recordings\\\\bpod_raw_data\\\\\\\\seq038\\\\Sequence_Automated\\\\Session Data//',\n",
       " 'Z:\\\\projects\\\\sequence_squad\\\\revision_data\\\\lars_recordings\\\\bpod_raw_data\\\\\\\\seq039\\\\Sequence_Automated\\\\Session Data//',\n",
       " 'Z:\\\\projects\\\\sequence_squad\\\\revision_data\\\\lars_recordings\\\\bpod_raw_data\\\\\\\\seq051\\\\Sequence_Automated\\\\Session Data//',\n",
       " 'Z:\\\\projects\\\\sequence_squad\\\\revision_data\\\\lars_recordings\\\\bpod_raw_data\\\\\\\\seq052\\\\Sequence_Automated\\\\Session Data//',\n",
       " 'Z:\\\\projects\\\\sequence_squad\\\\revision_data\\\\lars_recordings\\\\bpod_raw_data\\\\\\\\seq054\\\\Sequence_Automated\\\\Session Data//',\n",
       " 'Z:\\\\projects\\\\sequence_squad\\\\revision_data\\\\lars_recordings\\\\bpod_raw_data\\\\\\\\seq059\\\\Sequence_Automated\\\\Session Data//',\n",
       " 'Z:\\\\projects\\\\sequence_squad\\\\revision_data\\\\lars_recordings\\\\bpod_raw_data\\\\\\\\seq061\\\\Sequence_Automated\\\\Session Data//',\n",
       " 'Z:\\\\projects\\\\sequence_squad\\\\revision_data\\\\lars_recordings\\\\bpod_raw_data\\\\\\\\seq120\\\\Sequence_Automated\\\\Session Data//']"
      ]
     },
     "execution_count": 32,
     "metadata": {},
     "output_type": "execute_result"
    }
   ],
   "source": [
    "main_paths"
   ]
  },
  {
   "cell_type": "code",
   "execution_count": 31,
   "metadata": {},
   "outputs": [
    {
     "data": {
      "text/plain": [
       "['Sequence_Automated_CurrentTrainingLevel.mat',\n",
       " 'seq051_Sequence_Automated_20250424_113802.fig',\n",
       " 'seq051_Sequence_Automated_20250424_113802.mat',\n",
       " 'seq051_Sequence_Automated_20250425_132228.fig',\n",
       " 'seq051_Sequence_Automated_20250425_132228.mat',\n",
       " 'seq051_Sequence_Automated_20250428_140229.fig',\n",
       " 'seq051_Sequence_Automated_20250428_140229.mat',\n",
       " 'seq051_Sequence_Automated_20250428_141002.fig',\n",
       " 'seq051_Sequence_Automated_20250428_141002.mat',\n",
       " 'seq051_Sequence_Automated_20250428_141410.fig',\n",
       " 'seq051_Sequence_Automated_20250428_141410.mat',\n",
       " 'seq051_Sequence_Automated_20250429_141504.fig',\n",
       " 'seq051_Sequence_Automated_20250429_141504.mat',\n",
       " 'seq051_Sequence_Automated_20250430_132521.fig',\n",
       " 'seq051_Sequence_Automated_20250430_132521.mat',\n",
       " 'seq051_Sequence_Automated_20250501_142648.fig',\n",
       " 'seq051_Sequence_Automated_20250501_142648.mat',\n",
       " 'seq051_Sequence_Automated_20250502_155242.fig',\n",
       " 'seq051_Sequence_Automated_20250502_155242.mat',\n",
       " 'seq051_Sequence_Automated_20250503_100723.fig',\n",
       " 'seq051_Sequence_Automated_20250503_100723.mat',\n",
       " 'seq051_Sequence_Automated_20250503_104808.fig',\n",
       " 'seq051_Sequence_Automated_20250503_104808.mat',\n",
       " 'seq051_Sequence_Automated_20250504_100838.fig',\n",
       " 'seq051_Sequence_Automated_20250504_100838.mat',\n",
       " 'seq051_Sequence_Automated_20250505_112741.fig',\n",
       " 'seq051_Sequence_Automated_20250505_112741.mat',\n",
       " 'seq051_Sequence_Automated_20250508_140155.fig',\n",
       " 'seq051_Sequence_Automated_20250508_140155.mat',\n",
       " 'seq051_Sequence_Automated_20250509_112731.fig',\n",
       " 'seq051_Sequence_Automated_20250509_112731.mat',\n",
       " 'seq051_Sequence_Automated_20250510_134709.fig',\n",
       " 'seq051_Sequence_Automated_20250510_134709.mat',\n",
       " 'seq051_Sequence_Automated_20250511_143740.fig',\n",
       " 'seq051_Sequence_Automated_20250511_143740.mat',\n",
       " 'seq051_Sequence_Automated_20250512_115052.fig',\n",
       " 'seq051_Sequence_Automated_20250512_115052.mat',\n",
       " 'seq051_Sequence_Automated_20250513_120615.fig',\n",
       " 'seq051_Sequence_Automated_20250513_120615.mat',\n",
       " 'seq051_Sequence_Automated_20250514_123259.fig',\n",
       " 'seq051_Sequence_Automated_20250514_123259.mat',\n",
       " 'seq051_Sequence_Automated_20250515_120445.fig',\n",
       " 'seq051_Sequence_Automated_20250515_120445.mat',\n",
       " 'seq051_Sequence_Automated_20250516_112704.fig',\n",
       " 'seq051_Sequence_Automated_20250516_112704.mat',\n",
       " 'seq051_Sequence_Automated_20250517_133837.fig',\n",
       " 'seq051_Sequence_Automated_20250517_133837.mat',\n",
       " 'seq051_Sequence_Automated_20250518_160357.fig',\n",
       " 'seq051_Sequence_Automated_20250518_160357.mat',\n",
       " 'seq051_Sequence_Automated_20250519_142344.fig',\n",
       " 'seq051_Sequence_Automated_20250519_142344.mat',\n",
       " 'seq051_Sequence_Automated_20250520_135145.fig',\n",
       " 'seq051_Sequence_Automated_20250520_135145.mat',\n",
       " 'seq051_Sequence_Automated_20250521_130951.fig',\n",
       " 'seq051_Sequence_Automated_20250521_130951.mat',\n",
       " 'seq051_Sequence_Automated_20250522_114415.fig',\n",
       " 'seq051_Sequence_Automated_20250522_114415.mat',\n",
       " 'seq051_Sequence_Automated_20250523_134439.fig',\n",
       " 'seq051_Sequence_Automated_20250523_134439.mat',\n",
       " 'seq051_Sequence_Automated_20250524_142016.fig',\n",
       " 'seq051_Sequence_Automated_20250524_142016.mat',\n",
       " 'seq051_Sequence_Automated_20250525_143125.fig',\n",
       " 'seq051_Sequence_Automated_20250525_143125.mat',\n",
       " 'seq051_Sequence_Automated_20250526_153702.fig',\n",
       " 'seq051_Sequence_Automated_20250526_153702.mat',\n",
       " 'seq051_Sequence_Automated_20250527_090646.fig',\n",
       " 'seq051_Sequence_Automated_20250527_090646.mat',\n",
       " 'seq051_Sequence_Automated_20250528_121045.fig',\n",
       " 'seq051_Sequence_Automated_20250528_121045.mat',\n",
       " 'seq051_Sequence_Automated_20250529_150329.fig',\n",
       " 'seq051_Sequence_Automated_20250529_150329.mat',\n",
       " 'seq051_Sequence_Automated_20250530_120749.fig',\n",
       " 'seq051_Sequence_Automated_20250530_120749.mat',\n",
       " 'seq051_Sequence_Automated_20250531_121337.fig',\n",
       " 'seq051_Sequence_Automated_20250531_121337.mat',\n",
       " 'seq051_Sequence_Automated_20250531_121845.fig',\n",
       " 'seq051_Sequence_Automated_20250531_121845.mat',\n",
       " 'seq051_Sequence_Automated_20250601_105322.fig',\n",
       " 'seq051_Sequence_Automated_20250601_105322.mat']"
      ]
     },
     "execution_count": 31,
     "metadata": {},
     "output_type": "execute_result"
    }
   ],
   "source": [
    "Behav_Path"
   ]
  },
  {
   "cell_type": "code",
   "execution_count": 30,
   "metadata": {},
   "outputs": [
    {
     "data": {
      "text/plain": [
       "[['17-06-2025',\n",
       "  '18-06-2025',\n",
       "  '10-07-2025',\n",
       "  '11-07-2025',\n",
       "  '17-07-2025',\n",
       "  '18-07-2025',\n",
       "  '22-07-2025',\n",
       "  '23-07-2025'],\n",
       " ['11-07-2025',\n",
       "  '12-07-2025',\n",
       "  '16-07-2025',\n",
       "  '17-07-2025',\n",
       "  '22-07-2025',\n",
       "  '23-07-2025'],\n",
       " ['17-06-2025',\n",
       "  '18-06-2025',\n",
       "  '24-06-2025',\n",
       "  '25-06-2025',\n",
       "  '09-07-2025',\n",
       "  '10-07-2025'],\n",
       " ['12-08-2025'],\n",
       " ['30-07-2025',\n",
       "  '31-07-2025',\n",
       "  '01-08-2025',\n",
       "  '04-08-2025',\n",
       "  '05-08-2025',\n",
       "  '06-08-2025',\n",
       "  '07-08-2025',\n",
       "  '08-08-2025']]"
      ]
     },
     "execution_count": 30,
     "metadata": {},
     "output_type": "execute_result"
    }
   ],
   "source": [
    "Animal_ephys_dates\n"
   ]
  },
  {
   "cell_type": "code",
   "execution_count": 28,
   "metadata": {},
   "outputs": [
    {
     "data": {
      "text/plain": [
       "['30-07-2025',\n",
       " '31-07-2025',\n",
       " '01-08-2025',\n",
       " '04-08-2025',\n",
       " '05-08-2025',\n",
       " '06-08-2025',\n",
       " '07-08-2025',\n",
       " '08-08-2025']"
      ]
     },
     "execution_count": 28,
     "metadata": {},
     "output_type": "execute_result"
    }
   ],
   "source": [
    "ephys_dates"
   ]
  },
  {
   "cell_type": "code",
   "execution_count": 42,
   "metadata": {},
   "outputs": [
    {
     "data": {
      "text/plain": [
       "'Z:\\\\projects\\\\sequence_squad\\\\revision_data\\\\lars_recordings\\\\bpod_data\\\\\\\\SP156\\\\Sequence_Automated\\\\Session Data//'"
      ]
     },
     "execution_count": 42,
     "metadata": {},
     "output_type": "execute_result"
    }
   ],
   "source": [
    "main_paths[Animal_index]"
   ]
  },
  {
   "cell_type": "code",
   "execution_count": 43,
   "metadata": {},
   "outputs": [
    {
     "data": {
      "text/plain": [
       "['Z:\\\\projects\\\\sequence_squad\\\\revision_data\\\\lars_recordings\\\\bpod_data\\\\\\\\AP5_1_L\\\\Sequence_Automated\\\\Session Data//',\n",
       " 'Z:\\\\projects\\\\sequence_squad\\\\revision_data\\\\lars_recordings\\\\bpod_data\\\\\\\\AP5_2_R\\\\Sequence_Automated\\\\Session Data//',\n",
       " 'Z:\\\\projects\\\\sequence_squad\\\\revision_data\\\\lars_recordings\\\\bpod_data\\\\\\\\AP5_3_LR\\\\Sequence_Automated\\\\Session Data//',\n",
       " 'Z:\\\\projects\\\\sequence_squad\\\\revision_data\\\\lars_recordings\\\\bpod_data\\\\\\\\SEQ006\\\\Sequence_Automated\\\\Session Data//',\n",
       " 'Z:\\\\projects\\\\sequence_squad\\\\revision_data\\\\lars_recordings\\\\bpod_data\\\\\\\\SEQ007\\\\Sequence_Automated\\\\Session Data//',\n",
       " 'Z:\\\\projects\\\\sequence_squad\\\\revision_data\\\\lars_recordings\\\\bpod_data\\\\\\\\SEQ008\\\\Sequence_Automated\\\\Session Data//',\n",
       " 'Z:\\\\projects\\\\sequence_squad\\\\revision_data\\\\lars_recordings\\\\bpod_data\\\\\\\\SP156\\\\Sequence_Automated\\\\Session Data//']"
      ]
     },
     "execution_count": 43,
     "metadata": {},
     "output_type": "execute_result"
    }
   ],
   "source": [
    "main_paths"
   ]
  },
  {
   "cell_type": "code",
   "execution_count": 28,
   "metadata": {},
   "outputs": [
    {
     "data": {
      "text/plain": [
       "0"
      ]
     },
     "execution_count": 28,
     "metadata": {},
     "output_type": "execute_result"
    }
   ],
   "source": [
    "Sessions"
   ]
  },
  {
   "cell_type": "code",
   "execution_count": 27,
   "metadata": {},
   "outputs": [
    {
     "data": {
      "text/plain": [
       "['16-10-2024', '17-10-2024', '22-10-2024', '23-10-2024']"
      ]
     },
     "execution_count": 27,
     "metadata": {},
     "output_type": "execute_result"
    }
   ],
   "source": [
    "Animal_ephys_dates[Animal_index]"
   ]
  },
  {
   "cell_type": "code",
   "execution_count": null,
   "metadata": {},
   "outputs": [],
   "source": []
  }
 ],
 "metadata": {
  "kernelspec": {
   "display_name": "analysis_main",
   "language": "python",
   "name": "python3"
  },
  "language_info": {
   "codemirror_mode": {
    "name": "ipython",
    "version": 3
   },
   "file_extension": ".py",
   "mimetype": "text/x-python",
   "name": "python",
   "nbconvert_exporter": "python",
   "pygments_lexer": "ipython3",
   "version": "3.10.18"
  }
 },
 "nbformat": 4,
 "nbformat_minor": 4
}
